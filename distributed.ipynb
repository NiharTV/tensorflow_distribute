{
 "cells": [
  {
   "cell_type": "code",
   "execution_count": null,
   "id": "9a9b9232-aa3e-4148-80a1-a1f91e605025",
   "metadata": {},
   "outputs": [],
   "source": [
    "!pip install tensorflow"
   ]
  },
  {
   "cell_type": "code",
   "execution_count": 8,
   "id": "dc49c728-0cf9-4ada-b8fd-54a427ab79eb",
   "metadata": {},
   "outputs": [],
   "source": [
    "import tensorflow as tf"
   ]
  },
  {
   "cell_type": "code",
   "execution_count": null,
   "id": "6abbe3e2-a4f1-4e85-ab57-67b44ed2406c",
   "metadata": {},
   "outputs": [],
   "source": [
    "tf.__version__"
   ]
  },
  {
   "cell_type": "code",
   "execution_count": null,
   "id": "41c7b3a3-7311-40a5-9485-54ac38afde67",
   "metadata": {},
   "outputs": [],
   "source": [
    "!pip install spark_tensorflow_distributor"
   ]
  },
  {
   "cell_type": "code",
   "execution_count": 10,
   "id": "0a0309db-fbbe-4795-950d-791531d0c57d",
   "metadata": {},
   "outputs": [],
   "source": [
    "NUM_WORKERS = 2\n",
    "\n",
    "# Assume the driver node and worker nodes have the same instance type.\n",
    "\n",
    "TOTAL_NUM_GPUS = len(tf.config.list_logical_devices('GPU')) * NUM_WORKERS\n",
    "\n",
    "USE_GPU = TOTAL_NUM_GPUS > 0"
   ]
  },
  {
   "cell_type": "code",
   "execution_count": 11,
   "id": "d06e4343-a7a4-4490-88c1-f9551decec3f",
   "metadata": {},
   "outputs": [],
   "source": [
    "from spark_tensorflow_distributor import MirroredStrategyRunner\n",
    "\n",
    "# Adapted from https://www.tensorflow.org/tutorials/distribute/multi_worker_with_keras\n",
    "def train():\n",
    "    import tensorflow as tf\n",
    "    import uuid\n",
    "\n",
    "    BUFFER_SIZE = 10000\n",
    "    BATCH_SIZE = 64\n",
    "\n",
    "    def make_datasets():\n",
    "        (mnist_images, mnist_labels), _ = \\\n",
    "            tf.keras.datasets.mnist.load_data(path=str(uuid.uuid4())+'mnist.npz')\n",
    "\n",
    "        dataset = tf.data.Dataset.from_tensor_slices((\n",
    "            tf.cast(mnist_images[..., tf.newaxis] / 255.0, tf.float32),\n",
    "            tf.cast(mnist_labels, tf.int64))\n",
    "        )\n",
    "        dataset = dataset.repeat().shuffle(BUFFER_SIZE).batch(BATCH_SIZE)\n",
    "        return dataset\n",
    "\n",
    "    def build_and_compile_cnn_model():\n",
    "        model = tf.keras.Sequential([\n",
    "            tf.keras.layers.Conv2D(32, 3, activation='relu', input_shape=(28, 28, 1)),\n",
    "            tf.keras.layers.MaxPooling2D(),\n",
    "            tf.keras.layers.Flatten(),\n",
    "            tf.keras.layers.Dense(64, activation='relu'),\n",
    "            tf.keras.layers.Dense(10, activation='softmax'),\n",
    "        ])\n",
    "        model.compile(\n",
    "            loss=tf.keras.losses.sparse_categorical_crossentropy,\n",
    "            optimizer=tf.keras.optimizers.SGD(learning_rate=0.001),\n",
    "            metrics=['accuracy'],\n",
    "        )\n",
    "        return model\n",
    "\n",
    "    train_datasets = make_datasets()\n",
    "    options = tf.data.Options()\n",
    "    options.experimental_distribute.auto_shard_policy = tf.data.experimental.AutoShardPolicy.DATA\n",
    "    train_datasets = train_datasets.with_options(options)\n",
    "    multi_worker_model = build_and_compile_cnn_model()\n",
    "    multi_worker_model.fit(x=train_datasets, epochs=3, steps_per_epoch=5)"
   ]
  },
  {
   "cell_type": "code",
   "execution_count": 14,
   "id": "a889557c-0a89-4d93-b42f-4dfe2b4533d2",
   "metadata": {},
   "outputs": [
    {
     "name": "stderr",
     "output_type": "stream",
     "text": [
      "Doing CPU training...\n",
      "Will run with 4 Spark tasks.\n",
      "Distributed training in progress...\n",
      "View Spark executor stderr logs to inspect training...\n",
      "Training with 4 slots is complete!\n"
     ]
    }
   ],
   "source": [
    "NUM_SLOTS = TOTAL_NUM_GPUS if USE_GPU else 4  # For CPU training, choose a reasonable NUM_SLOTS value\n",
    "\n",
    "runner = MirroredStrategyRunner(num_slots=NUM_SLOTS,local_mode=False, use_gpu=USE_GPU)\n",
    "\n",
    "runner.run(train)"
   ]
  },
  {
   "cell_type": "code",
   "execution_count": null,
   "id": "78587508-af41-4a75-9829-b9167f15952e",
   "metadata": {},
   "outputs": [],
   "source": []
  }
 ],
 "metadata": {
  "kernelspec": {
   "display_name": "Python 3 (ipykernel)",
   "language": "python",
   "name": "python3"
  },
  "language_info": {
   "codemirror_mode": {
    "name": "ipython",
    "version": 3
   },
   "file_extension": ".py",
   "mimetype": "text/x-python",
   "name": "python",
   "nbconvert_exporter": "python",
   "pygments_lexer": "ipython3",
   "version": "3.10.5"
  }
 },
 "nbformat": 4,
 "nbformat_minor": 5
}
